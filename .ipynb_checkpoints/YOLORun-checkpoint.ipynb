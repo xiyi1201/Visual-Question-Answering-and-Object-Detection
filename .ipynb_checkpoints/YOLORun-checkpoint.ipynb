{
 "cells": [
  {
   "cell_type": "code",
   "execution_count": 3,
   "id": "f68a5b6c-3062-42de-b677-6f3c8d736f32",
   "metadata": {},
   "outputs": [
    {
     "name": "stdout",
     "output_type": "stream",
     "text": [
      "\n",
      "image 1/1 /Users/kevinli/Downloads/final_code/images/VizWiz_train_00000078.jpg: 640x480 (no detections), 130.3ms\n",
      "Speed: 2.2ms preprocess, 130.3ms inference, 0.3ms postprocess per image at shape (1, 3, 640, 480)\n",
      "Results saved to \u001b[1m/Users/kevinli/runs/segment/predict2\u001b[0m\n",
      "\n",
      "image 1/1 /Users/kevinli/Downloads/final_code/images/VizWiz_train_00000079.jpg: 640x480 (no detections), 106.3ms\n",
      "Speed: 2.8ms preprocess, 106.3ms inference, 0.2ms postprocess per image at shape (1, 3, 640, 480)\n",
      "Results saved to \u001b[1m/Users/kevinli/runs/segment/predict2\u001b[0m\n",
      "\n",
      "image 1/1 /Users/kevinli/Downloads/final_code/images/VizWiz_train_00000081.jpg: 640x480 (no detections), 110.8ms\n",
      "Speed: 1.7ms preprocess, 110.8ms inference, 0.2ms postprocess per image at shape (1, 3, 640, 480)\n",
      "Results saved to \u001b[1m/Users/kevinli/runs/segment/predict2\u001b[0m\n"
     ]
    }
   ],
   "source": [
    "from PIL import Image\n",
    "from ultralytics import YOLO\n",
    "\n",
    "model = YOLO('./yolov8-seg.pt25/weights/best.pt')\n",
    "\n",
    "# Load a test image\n",
    "image_filenames = [\n",
    " \n",
    "]\n",
    "\n",
    "for i, image_filename in enumerate(image_filenames, start=1):\n",
    "    image_path = os.path.join('./images/', image_filename)\n",
    "    image = Image.open(image_path)\n",
    "    # Make predictions and save the image\n",
    "    model.predict(image_path, save=True, imgsz=640, conf=0.5)\n",
    "    \n",
    "#You may have to change this directory name\n",
    "output_directory = './runs/segment/predict2'\n",
    "# Iterate through the predicted images in the directory\n",
    "for filename in os.listdir(output_directory):\n",
    "    if filename.endswith('.jpg'):\n",
    "        # Specify the full path of the image\n",
    "        image_path = os.path.join(output_directory, filename)\n",
    "        # Open and display the image\n",
    "        image = Image.open(image_path)\n",
    "        image.show()\n",
    "        "
   ]
  }
 ],
 "metadata": {
  "kernelspec": {
   "display_name": "Python 3 (ipykernel)",
   "language": "python",
   "name": "python3"
  },
  "language_info": {
   "codemirror_mode": {
    "name": "ipython",
    "version": 3
   },
   "file_extension": ".py",
   "mimetype": "text/x-python",
   "name": "python",
   "nbconvert_exporter": "python",
   "pygments_lexer": "ipython3",
   "version": "3.10.9"
  }
 },
 "nbformat": 4,
 "nbformat_minor": 5
}
